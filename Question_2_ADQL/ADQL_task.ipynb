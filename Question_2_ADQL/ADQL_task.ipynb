{
 "cells": [
  {
   "cell_type": "markdown",
   "id": "95fe3e68",
   "metadata": {},
   "source": [
    "## Question 2: ADQL\n",
    "\n",
    "**Summary:** *A colleague is interested in the open cluster Ruprecht 147 (RA = 289.074 deg, Dec =-16.323 deg) and is considering an observation proposal using the 2dF fibre positioner and HERMES spectrograph (effective for Gaia G band magnitudes < 14). They need to know if there are enough bright stars in this region for observation, and how bright these stars would be in the wavelength region of the APOGEE spectrograph (which operates in the H-band). Your task is to assist by querying data from Gaia DR3 and performing some basic analysis.*"
   ]
  },
  {
   "cell_type": "code",
   "execution_count": null,
   "id": "ab5173a6",
   "metadata": {
    "vscode": {
     "languageId": "plaintext"
    }
   },
   "outputs": [],
   "source": []
  }
 ],
 "metadata": {
  "language_info": {
   "name": "python"
  }
 },
 "nbformat": 4,
 "nbformat_minor": 5
}
